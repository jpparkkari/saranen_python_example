{
 "metadata": {
  "language_info": {
   "codemirror_mode": {
    "name": "ipython",
    "version": 3
   },
   "file_extension": ".py",
   "mimetype": "text/x-python",
   "name": "python",
   "nbconvert_exporter": "python",
   "pygments_lexer": "ipython3",
   "version": "3.8.8"
  },
  "orig_nbformat": 4,
  "kernelspec": {
   "name": "python3",
   "display_name": "Python 3.8.8 64-bit ('base': conda)"
  },
  "interpreter": {
   "hash": "89bd8ffadd7cf599dda3c1811656235b2c0c8a448f56ba0311090d8ffafd7f7f"
  }
 },
 "nbformat": 4,
 "nbformat_minor": 2,
 "cells": [
  {
   "cell_type": "code",
   "execution_count": 1,
   "metadata": {},
   "outputs": [],
   "source": [
    "import numpy as np \n",
    "import pandas as pd"
   ]
  },
  {
   "cell_type": "code",
   "execution_count": 6,
   "metadata": {},
   "outputs": [
    {
     "output_type": "execute_result",
     "data": {
      "text/plain": [
       "                            NIMI                     OSOITE  POSTINUMERO  \\\n",
       "0            K-market Seppäläntie            Seppäläntie 19         7900   \n",
       "1                    Lucky Palace           Porttisuontie 4         1200   \n",
       "2      Better We Do It  Slow Food               Kirkkotie 6        21420   \n",
       "3   Bodegan  Käringsunds Gästhamn  , Gamla Käringsundsvägen        22270   \n",
       "4                       Kauppala    Hollikankaantie 149 A 3        42910   \n",
       "\n",
       "  POSTITOIMIPAIKKA    KUNTA LUVANALKUPVM                          LUPATYYPPI  \\\n",
       "0          Loviisa  Loviisa   29.07.2018      Vähittäismyyntilupa/max. 5.5 %   \n",
       "1           Vantaa   Vantaa   01.04.2018  Anniskelu A, kaikki alkoholijuomat   \n",
       "2            Lieto    Lieto   25.04.2018  Anniskelu A, kaikki alkoholijuomat   \n",
       "3           Eckerö   Eckerö   31.03.2021  Anniskelu A, kaikki alkoholijuomat   \n",
       "4      Pihlajavesi   Keuruu   30.04.2013      Vähittäismyyntilupa/max. 5.5 %   \n",
       "\n",
       "    Y-TUNNUS  \n",
       "0  2480964-8  \n",
       "1  2638947-2  \n",
       "2  1704082-6  \n",
       "3  2104560-3  \n",
       "4  2520002-5  "
      ],
      "text/html": "<div>\n<style scoped>\n    .dataframe tbody tr th:only-of-type {\n        vertical-align: middle;\n    }\n\n    .dataframe tbody tr th {\n        vertical-align: top;\n    }\n\n    .dataframe thead th {\n        text-align: right;\n    }\n</style>\n<table border=\"1\" class=\"dataframe\">\n  <thead>\n    <tr style=\"text-align: right;\">\n      <th></th>\n      <th>NIMI</th>\n      <th>OSOITE</th>\n      <th>POSTINUMERO</th>\n      <th>POSTITOIMIPAIKKA</th>\n      <th>KUNTA</th>\n      <th>LUVANALKUPVM</th>\n      <th>LUPATYYPPI</th>\n      <th>Y-TUNNUS</th>\n    </tr>\n  </thead>\n  <tbody>\n    <tr>\n      <th>0</th>\n      <td>K-market Seppäläntie</td>\n      <td>Seppäläntie 19</td>\n      <td>7900</td>\n      <td>Loviisa</td>\n      <td>Loviisa</td>\n      <td>29.07.2018</td>\n      <td>Vähittäismyyntilupa/max. 5.5 %</td>\n      <td>2480964-8</td>\n    </tr>\n    <tr>\n      <th>1</th>\n      <td>Lucky Palace</td>\n      <td>Porttisuontie 4</td>\n      <td>1200</td>\n      <td>Vantaa</td>\n      <td>Vantaa</td>\n      <td>01.04.2018</td>\n      <td>Anniskelu A, kaikki alkoholijuomat</td>\n      <td>2638947-2</td>\n    </tr>\n    <tr>\n      <th>2</th>\n      <td>Better We Do It  Slow Food</td>\n      <td>Kirkkotie 6</td>\n      <td>21420</td>\n      <td>Lieto</td>\n      <td>Lieto</td>\n      <td>25.04.2018</td>\n      <td>Anniskelu A, kaikki alkoholijuomat</td>\n      <td>1704082-6</td>\n    </tr>\n    <tr>\n      <th>3</th>\n      <td>Bodegan  Käringsunds Gästhamn</td>\n      <td>, Gamla Käringsundsvägen</td>\n      <td>22270</td>\n      <td>Eckerö</td>\n      <td>Eckerö</td>\n      <td>31.03.2021</td>\n      <td>Anniskelu A, kaikki alkoholijuomat</td>\n      <td>2104560-3</td>\n    </tr>\n    <tr>\n      <th>4</th>\n      <td>Kauppala</td>\n      <td>Hollikankaantie 149 A 3</td>\n      <td>42910</td>\n      <td>Pihlajavesi</td>\n      <td>Keuruu</td>\n      <td>30.04.2013</td>\n      <td>Vähittäismyyntilupa/max. 5.5 %</td>\n      <td>2520002-5</td>\n    </tr>\n  </tbody>\n</table>\n</div>"
     },
     "metadata": {},
     "execution_count": 6
    }
   ],
   "source": [
    "data = pd.read_csv(\"alkoholilupa_toimipaikkatiedot_ABC.csv\", sep=\";\", encoding=\"iso-8859-15\")\n",
    "data.head()"
   ]
  },
  {
   "cell_type": "code",
   "execution_count": 9,
   "metadata": {},
   "outputs": [],
   "source": [
    "data.to_csv(path_or_buf=\"alkoholilupa_toimipaikkatiedot_ABC_utf8.csv\", encoding=\"utf-8\", index=False)"
   ]
  },
  {
   "cell_type": "code",
   "execution_count": 10,
   "metadata": {},
   "outputs": [
    {
     "output_type": "execute_result",
     "data": {
      "text/plain": [
       "        POSTINUMERO\n",
       "count  14991.000000\n",
       "mean   37420.968514\n",
       "std    31868.099212\n",
       "min       99.000000\n",
       "25%     5815.000000\n",
       "50%    33100.000000\n",
       "75%    63320.000000\n",
       "max    99990.000000"
      ],
      "text/html": "<div>\n<style scoped>\n    .dataframe tbody tr th:only-of-type {\n        vertical-align: middle;\n    }\n\n    .dataframe tbody tr th {\n        vertical-align: top;\n    }\n\n    .dataframe thead th {\n        text-align: right;\n    }\n</style>\n<table border=\"1\" class=\"dataframe\">\n  <thead>\n    <tr style=\"text-align: right;\">\n      <th></th>\n      <th>POSTINUMERO</th>\n    </tr>\n  </thead>\n  <tbody>\n    <tr>\n      <th>count</th>\n      <td>14991.000000</td>\n    </tr>\n    <tr>\n      <th>mean</th>\n      <td>37420.968514</td>\n    </tr>\n    <tr>\n      <th>std</th>\n      <td>31868.099212</td>\n    </tr>\n    <tr>\n      <th>min</th>\n      <td>99.000000</td>\n    </tr>\n    <tr>\n      <th>25%</th>\n      <td>5815.000000</td>\n    </tr>\n    <tr>\n      <th>50%</th>\n      <td>33100.000000</td>\n    </tr>\n    <tr>\n      <th>75%</th>\n      <td>63320.000000</td>\n    </tr>\n    <tr>\n      <th>max</th>\n      <td>99990.000000</td>\n    </tr>\n  </tbody>\n</table>\n</div>"
     },
     "metadata": {},
     "execution_count": 10
    }
   ],
   "source": [
    "data.describe()"
   ]
  },
  {
   "cell_type": "code",
   "execution_count": 14,
   "metadata": {},
   "outputs": [
    {
     "output_type": "execute_result",
     "data": {
      "text/plain": [
       "           NIMI   OSOITE  POSTINUMERO  POSTITOIMIPAIKKA  LUVANALKUPVM  \\\n",
       "KUNTA                                                                   \n",
       "Akaa          29      29           29                29            29   \n",
       "Alajärvi      28      28           28                28            28   \n",
       "Alavieska      4       4            4                 4             4   \n",
       "Alavus        28      28           28                28            28   \n",
       "Asikkala      37      37           37                37            37   \n",
       "...          ...     ...          ...               ...           ...   \n",
       "Ylivieska     28      28           28                28            28   \n",
       "Ylöjärvi      54      54           54                54            54   \n",
       "Ypäjä         13      13           13                13            13   \n",
       "Ähtäri        22      22           22                22            22   \n",
       "Äänekoski     50      50           50                50            50   \n",
       "\n",
       "           LUPATYYPPI  Y-TUNNUS  \n",
       "KUNTA                            \n",
       "Akaa               29        26  \n",
       "Alajärvi           28        20  \n",
       "Alavieska           4         2  \n",
       "Alavus             28        23  \n",
       "Asikkala           37        31  \n",
       "...               ...       ...  \n",
       "Ylivieska          28        25  \n",
       "Ylöjärvi           54        45  \n",
       "Ypäjä              13        10  \n",
       "Ähtäri             22        19  \n",
       "Äänekoski          50        39  \n",
       "\n",
       "[311 rows x 7 columns]"
      ],
      "text/html": "<div>\n<style scoped>\n    .dataframe tbody tr th:only-of-type {\n        vertical-align: middle;\n    }\n\n    .dataframe tbody tr th {\n        vertical-align: top;\n    }\n\n    .dataframe thead th {\n        text-align: right;\n    }\n</style>\n<table border=\"1\" class=\"dataframe\">\n  <thead>\n    <tr style=\"text-align: right;\">\n      <th></th>\n      <th>NIMI</th>\n      <th>OSOITE</th>\n      <th>POSTINUMERO</th>\n      <th>POSTITOIMIPAIKKA</th>\n      <th>LUVANALKUPVM</th>\n      <th>LUPATYYPPI</th>\n      <th>Y-TUNNUS</th>\n    </tr>\n    <tr>\n      <th>KUNTA</th>\n      <th></th>\n      <th></th>\n      <th></th>\n      <th></th>\n      <th></th>\n      <th></th>\n      <th></th>\n    </tr>\n  </thead>\n  <tbody>\n    <tr>\n      <th>Akaa</th>\n      <td>29</td>\n      <td>29</td>\n      <td>29</td>\n      <td>29</td>\n      <td>29</td>\n      <td>29</td>\n      <td>26</td>\n    </tr>\n    <tr>\n      <th>Alajärvi</th>\n      <td>28</td>\n      <td>28</td>\n      <td>28</td>\n      <td>28</td>\n      <td>28</td>\n      <td>28</td>\n      <td>20</td>\n    </tr>\n    <tr>\n      <th>Alavieska</th>\n      <td>4</td>\n      <td>4</td>\n      <td>4</td>\n      <td>4</td>\n      <td>4</td>\n      <td>4</td>\n      <td>2</td>\n    </tr>\n    <tr>\n      <th>Alavus</th>\n      <td>28</td>\n      <td>28</td>\n      <td>28</td>\n      <td>28</td>\n      <td>28</td>\n      <td>28</td>\n      <td>23</td>\n    </tr>\n    <tr>\n      <th>Asikkala</th>\n      <td>37</td>\n      <td>37</td>\n      <td>37</td>\n      <td>37</td>\n      <td>37</td>\n      <td>37</td>\n      <td>31</td>\n    </tr>\n    <tr>\n      <th>...</th>\n      <td>...</td>\n      <td>...</td>\n      <td>...</td>\n      <td>...</td>\n      <td>...</td>\n      <td>...</td>\n      <td>...</td>\n    </tr>\n    <tr>\n      <th>Ylivieska</th>\n      <td>28</td>\n      <td>28</td>\n      <td>28</td>\n      <td>28</td>\n      <td>28</td>\n      <td>28</td>\n      <td>25</td>\n    </tr>\n    <tr>\n      <th>Ylöjärvi</th>\n      <td>54</td>\n      <td>54</td>\n      <td>54</td>\n      <td>54</td>\n      <td>54</td>\n      <td>54</td>\n      <td>45</td>\n    </tr>\n    <tr>\n      <th>Ypäjä</th>\n      <td>13</td>\n      <td>13</td>\n      <td>13</td>\n      <td>13</td>\n      <td>13</td>\n      <td>13</td>\n      <td>10</td>\n    </tr>\n    <tr>\n      <th>Ähtäri</th>\n      <td>22</td>\n      <td>22</td>\n      <td>22</td>\n      <td>22</td>\n      <td>22</td>\n      <td>22</td>\n      <td>19</td>\n    </tr>\n    <tr>\n      <th>Äänekoski</th>\n      <td>50</td>\n      <td>50</td>\n      <td>50</td>\n      <td>50</td>\n      <td>50</td>\n      <td>50</td>\n      <td>39</td>\n    </tr>\n  </tbody>\n</table>\n<p>311 rows × 7 columns</p>\n</div>"
     },
     "metadata": {},
     "execution_count": 14
    }
   ],
   "source": [
    "data.groupby(by=[\"KUNTA\"]).count()"
   ]
  }
 ]
}